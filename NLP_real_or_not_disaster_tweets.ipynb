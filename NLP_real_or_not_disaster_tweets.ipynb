{
 "cells": [
  {
   "cell_type": "markdown",
   "metadata": {},
   "source": [
    "# NLP - Real or not Disaster tweets\n",
    "## GOAL\n",
    "\n",
    "Predict which tweets are about real disasters and which ones are not.\n",
    "\n",
    "In this notebook two models are available. The second one is more efficient, you can add yours in choose_model function and change the model_number in User Interface"
   ]
  },
  {
   "cell_type": "markdown",
   "metadata": {},
   "source": [
    "## User interface"
   ]
  },
  {
   "cell_type": "code",
   "execution_count": 40,
   "metadata": {},
   "outputs": [],
   "source": [
    "# Choose parameters for this application\n",
    "\n",
    "# There are 2 models available, number 1 or number 2\n",
    "model_number = 2\n",
    "\n",
    "# Size is the ratio between data train size and data test size in percent\n",
    "# e.g. size = 80\n",
    "size = 80\n",
    "\n",
    "# Choose learning rate schedule parameters for Adam optimizer\n",
    "initial_learning_rate = 0.0001\n",
    "decay_steps = 1000\n",
    "decay_rate = 0.95\n",
    "\n",
    "# Parameter threshold for sigmoid activation function\n",
    "thresholds = 0.5\n",
    "\n",
    "# Choose epochs number for model training\n",
    "epochs = 10\n"
   ]
  },
  {
   "cell_type": "markdown",
   "metadata": {
    "colab_type": "text",
    "id": "DyRzvP-dBhvQ"
   },
   "source": [
    "## Import libraries"
   ]
  },
  {
   "cell_type": "code",
   "execution_count": 6,
   "metadata": {
    "colab": {},
    "colab_type": "code",
    "id": "eDDRLzQPBhvR"
   },
   "outputs": [],
   "source": [
    "# Import libraries\n",
    "import tensorflow as tf\n",
    "\n",
    "#tf.enable_eager_execution()\n",
    "\n",
    "import tensorflow_datasets as tfds\n",
    "\n",
    "\n",
    "import pandas as pd\n",
    "import numpy as np\n",
    "import matplotlib.pyplot as plt\n",
    "\n",
    "import en_core_web_sm\n",
    "from spacy.lang.fr.stop_words import STOP_WORDS\n",
    "\n",
    "import re\n",
    "\n",
    "nlp = en_core_web_sm.load()"
   ]
  },
  {
   "cell_type": "markdown",
   "metadata": {
    "colab_type": "text",
    "id": "MhiaPeVQBhvU"
   },
   "source": [
    "## Define functions"
   ]
  },
  {
   "cell_type": "code",
   "execution_count": 7,
   "metadata": {
    "colab": {},
    "colab_type": "code",
    "id": "j13gHbr1BhvU"
   },
   "outputs": [],
   "source": [
    "# Create Tensorflow dataset from pandas dataframe\n",
    "def create_tf_dataset(dataset):\n",
    "    tf_ds = tf.data.Dataset.from_tensor_slices((dataset.iloc[:,0].values, dataset.iloc[:,1].values))\n",
    "    \n",
    "    return tf_ds"
   ]
  },
  {
   "cell_type": "code",
   "execution_count": 8,
   "metadata": {
    "colab": {},
    "colab_type": "code",
    "id": "IRUBQe78BhvW"
   },
   "outputs": [],
   "source": [
    "# Create doc of tokens\n",
    "def create_token_doc(data):\n",
    "    \n",
    "    corpus = ' '.join(data)\n",
    "    corpus = corpus.strip().encode(\"utf-8\").decode(\"utf-8\")\n",
    "    \n",
    "    # Lower the text\n",
    "    corpus = corpus.lower()\n",
    "    \n",
    "    corpus = re.sub(r\"http\\S+\", \"\", corpus)\n",
    "    corpus = re.sub(r\"@\\S+\", \"\", corpus)\n",
    "    corpus = re.sub(r\"\\x89\\S+\", \"\", corpus) \n",
    "    #corpus = re.sub(r\"\\n\\S+\", \"\", corpus)\n",
    "    \n",
    "    # Delete double blanks\n",
    "    corpus = re.sub(r\"\\s+\", \" \", corpus)\n",
    "    \n",
    "    corpus = tf.keras.preprocessing.text.text_to_word_sequence(corpus,\n",
    "                                                      filters='!\"#$%&()*+,-./:;<=>?@[\\\\]^_`{|}~\\t\\n0123456789',\n",
    "                                                      lower=True,\n",
    "                                                      split=' ')\n",
    "    \n",
    "    corpus = ' '.join(corpus)\n",
    "    \n",
    "    # Check size because nlp.max_length is blocked at 1000000\n",
    "    if len(corpus) >= 1000000:\n",
    "        nlp.max_length = len(corpus)+1 # +1 for safety\n",
    "        doc = nlp(corpus)\n",
    "    else:\n",
    "        doc = nlp(corpus)\n",
    "    \n",
    "    return doc"
   ]
  },
  {
   "cell_type": "code",
   "execution_count": 9,
   "metadata": {
    "colab": {},
    "colab_type": "code",
    "id": "0ykSTaCjBhvY"
   },
   "outputs": [],
   "source": [
    "# Clean doc of tokens\n",
    "def tokens_cleaning(doc):\n",
    "    \n",
    "    # Create list of word tokens\n",
    "    token_list = []\n",
    "    for token in doc:\n",
    "        token_list.append(token.text)\n",
    "    \n",
    "    # Create list of word tokens after removing stopwords\n",
    "    stop_word_removed = [] \n",
    "\n",
    "    for word in token_list:\n",
    "        lexeme = nlp.vocab[word]\n",
    "        if lexeme.is_stop == False:\n",
    "            stop_word_removed.append(word) \n",
    "    \n",
    "    # Create list of word token after removing punctuation\n",
    "    punctuation_removed = [] \n",
    "\n",
    "    for word in stop_word_removed:\n",
    "        lexeme = nlp.vocab[word]\n",
    "        if lexeme.is_punct == False:\n",
    "            punctuation_removed.append(word)\n",
    "            \n",
    "    # Create list of word token after removing numbers\n",
    "    digit_removed = []\n",
    "    \n",
    "    for word in punctuation_removed:\n",
    "        lexeme = nlp.vocab[word]\n",
    "        if lexeme.is_digit == False:\n",
    "            digit_removed.append(word) \n",
    "        \n",
    "    doc = nlp(' '.join(digit_removed))\n",
    "    \n",
    "    # Lemmatization\n",
    "    doc_cleaned = [token.lemma_ for token in doc]\n",
    "    \n",
    "    return doc_cleaned"
   ]
  },
  {
   "cell_type": "code",
   "execution_count": 10,
   "metadata": {
    "colab": {},
    "colab_type": "code",
    "id": "g7w2CeAiBhva"
   },
   "outputs": [],
   "source": [
    "# Create set for vocabulary\n",
    "def set_lemma_list(lemma_list):\n",
    "    vocabulary_set= set(lemma_list)\n",
    "    \n",
    "    return vocabulary_set"
   ]
  },
  {
   "cell_type": "code",
   "execution_count": 11,
   "metadata": {
    "colab": {},
    "colab_type": "code",
    "id": "JuPTnfbVBhvc"
   },
   "outputs": [],
   "source": [
    "# Encode all dataset elements \n",
    "def encode(text_tensor, label):\n",
    "  encoded_text = encoder.encode(text_tensor.numpy())\n",
    "\n",
    "  return encoded_text, label\n",
    "\n",
    "# Encode all dataset\n",
    "def encode_map_fn(text, label):\n",
    "    \n",
    "  return tf.py_function(encode, inp=[text, label], Tout=(tf.int64, tf.int64))"
   ]
  },
  {
   "cell_type": "code",
   "execution_count": 12,
   "metadata": {},
   "outputs": [],
   "source": [
    "# Define models\n",
    "def choose_model(choice):\n",
    "    if choice == 1:\n",
    "        model = tf.keras.Sequential([\n",
    "                  # Input Word Embedding laler          \n",
    "                  tf.keras.layers.Embedding(encoder.vocab_size, 64),\n",
    "\n",
    "                  # Bidirectional LSTM layer\n",
    "                  tf.keras.layers.Bidirectional(tf.keras.layers.LSTM(64, return_sequences=True)),\n",
    "\n",
    "                  # Couche CNN\n",
    "                  tf.keras.layers.Conv1D(16, 3, activation=\"relu\"),\n",
    "                  \n",
    "                  # LSTM Layer\n",
    "                  tf.keras.layers.LSTM(32, return_sequences=False),               \n",
    "\n",
    "                  # Classic Dense layers\n",
    "                  tf.keras.layers.Dense(64, activation='relu'),\n",
    "                  tf.keras.layers.Dense(32, activation='relu'),\n",
    "                  tf.keras.layers.Dense(16, activation='relu'),\n",
    "                  tf.keras.layers.Dense(8, activation='relu'),\n",
    "\n",
    "                  # Dense layer for output\n",
    "                  tf.keras.layers.Dense(1, activation=\"sigmoid\")\n",
    "            ])\n",
    "            \n",
    "            \n",
    "    if choice == 2:\n",
    "            model = tf.keras.Sequential([\n",
    "                # Input Word Embedding laler   \n",
    "                tf.keras.layers.Embedding(encoder.vocab_size, 64),\n",
    "                \n",
    "                # Bidirectional LSTM layer\n",
    "                tf.keras.layers.Bidirectional(tf.keras.layers.LSTM(64)),\n",
    "                \n",
    "                # Classic Dense layers\n",
    "                tf.keras.layers.Dense(32, activation='relu'),\n",
    "                tf.keras.layers.Dense(16, activation='relu'),\n",
    "                tf.keras.layers.Dense(8, activation='relu'),\n",
    "                \n",
    "                # Dense layer for output\n",
    "                tf.keras.layers.Dense(1, activation='sigmoid')\n",
    "            ])\n",
    "\n",
    "            \n",
    "            \n",
    "    model.compile(optimizer=optimizer,\n",
    "                    loss=tf.keras.losses.binary_crossentropy,\n",
    "                    metrics=METRICS)\n",
    "    \n",
    "    return model"
   ]
  },
  {
   "cell_type": "markdown",
   "metadata": {},
   "source": [
    "## Import data"
   ]
  },
  {
   "cell_type": "code",
   "execution_count": 13,
   "metadata": {},
   "outputs": [],
   "source": [
    "# Import data\n",
    "data_train = pd.read_csv(\"train.csv\")\n",
    "data_test = pd.read_csv(\"test.csv\")\n",
    "example_submission = pd.read_csv('sample_submission.csv')"
   ]
  },
  {
   "cell_type": "markdown",
   "metadata": {
    "colab_type": "text",
    "id": "3pAnT5-lBhvg"
   },
   "source": [
    "## Data preprocessing for encoding with train & test data"
   ]
  },
  {
   "cell_type": "code",
   "execution_count": 14,
   "metadata": {
    "colab": {},
    "colab_type": "code",
    "id": "tRXDIZBPBhvk"
   },
   "outputs": [
    {
     "data": {
      "text/html": [
       "<div>\n",
       "<style scoped>\n",
       "    .dataframe tbody tr th:only-of-type {\n",
       "        vertical-align: middle;\n",
       "    }\n",
       "\n",
       "    .dataframe tbody tr th {\n",
       "        vertical-align: top;\n",
       "    }\n",
       "\n",
       "    .dataframe thead th {\n",
       "        text-align: right;\n",
       "    }\n",
       "</style>\n",
       "<table border=\"1\" class=\"dataframe\">\n",
       "  <thead>\n",
       "    <tr style=\"text-align: right;\">\n",
       "      <th></th>\n",
       "      <th>id</th>\n",
       "      <th>keyword</th>\n",
       "      <th>location</th>\n",
       "      <th>text</th>\n",
       "      <th>target</th>\n",
       "    </tr>\n",
       "  </thead>\n",
       "  <tbody>\n",
       "    <tr>\n",
       "      <th>0</th>\n",
       "      <td>1</td>\n",
       "      <td>NaN</td>\n",
       "      <td>NaN</td>\n",
       "      <td>Our Deeds are the Reason of this #earthquake M...</td>\n",
       "      <td>1.0</td>\n",
       "    </tr>\n",
       "    <tr>\n",
       "      <th>1</th>\n",
       "      <td>4</td>\n",
       "      <td>NaN</td>\n",
       "      <td>NaN</td>\n",
       "      <td>Forest fire near La Ronge Sask. Canada</td>\n",
       "      <td>1.0</td>\n",
       "    </tr>\n",
       "    <tr>\n",
       "      <th>2</th>\n",
       "      <td>5</td>\n",
       "      <td>NaN</td>\n",
       "      <td>NaN</td>\n",
       "      <td>All residents asked to 'shelter in place' are ...</td>\n",
       "      <td>1.0</td>\n",
       "    </tr>\n",
       "    <tr>\n",
       "      <th>3</th>\n",
       "      <td>6</td>\n",
       "      <td>NaN</td>\n",
       "      <td>NaN</td>\n",
       "      <td>13,000 people receive #wildfires evacuation or...</td>\n",
       "      <td>1.0</td>\n",
       "    </tr>\n",
       "    <tr>\n",
       "      <th>4</th>\n",
       "      <td>7</td>\n",
       "      <td>NaN</td>\n",
       "      <td>NaN</td>\n",
       "      <td>Just got sent this photo from Ruby #Alaska as ...</td>\n",
       "      <td>1.0</td>\n",
       "    </tr>\n",
       "  </tbody>\n",
       "</table>\n",
       "</div>"
      ],
      "text/plain": [
       "   id keyword location                                               text  \\\n",
       "0   1     NaN      NaN  Our Deeds are the Reason of this #earthquake M...   \n",
       "1   4     NaN      NaN             Forest fire near La Ronge Sask. Canada   \n",
       "2   5     NaN      NaN  All residents asked to 'shelter in place' are ...   \n",
       "3   6     NaN      NaN  13,000 people receive #wildfires evacuation or...   \n",
       "4   7     NaN      NaN  Just got sent this photo from Ruby #Alaska as ...   \n",
       "\n",
       "   target  \n",
       "0     1.0  \n",
       "1     1.0  \n",
       "2     1.0  \n",
       "3     1.0  \n",
       "4     1.0  "
      ]
     },
     "execution_count": 14,
     "metadata": {},
     "output_type": "execute_result"
    }
   ],
   "source": [
    "data = pd.concat([data_train, data_test])"
   ]
  },
  {
   "cell_type": "code",
   "execution_count": 16,
   "metadata": {
    "colab": {},
    "colab_type": "code",
    "id": "F01cnMB8Bhvr"
   },
   "outputs": [],
   "source": [
    "# Create doc with tokens\n",
    "data = data.text\n",
    "doc = create_token_doc(data)\n",
    "\n",
    "# Clean doc \n",
    "doc_cleaned = tokens_cleaning(doc)\n",
    "\n",
    "# Create vocabulary set\n",
    "vocabulary_set = set_lemma_list(doc_cleaned)\n",
    "\n",
    "# Encode each tokens with number\n",
    "encoder = tfds.features.text.TokenTextEncoder(vocabulary_set)"
   ]
  },
  {
   "cell_type": "code",
   "execution_count": 20,
   "metadata": {},
   "outputs": [],
   "source": [
    "data_train = data_train.loc[:,['text', 'target']]"
   ]
  },
  {
   "cell_type": "code",
   "execution_count": 21,
   "metadata": {
    "colab": {},
    "colab_type": "code",
    "id": "6-l4Wb5iBhwA"
   },
   "outputs": [],
   "source": [
    "tf_ds_train = create_tf_dataset(data_train)\n",
    "\n",
    "tf_ds_train = tf_ds_train.shuffle(len(data_train))\n",
    "\n",
    "doc_train = create_token_doc(data_train.text)\n",
    "\n",
    "doc_train_cleaned = tokens_cleaning(doc_train)\n",
    "\n",
    "all_encoded_data_train = tf_ds_train.map(encode_map_fn)"
   ]
  },
  {
   "cell_type": "code",
   "execution_count": 26,
   "metadata": {},
   "outputs": [],
   "source": [
    "# Train Test Split\n",
    "TAKE_SIZE = int((size/100)*len(data_train))\n",
    "\n",
    "train_data = all_encoded_data_train.take(TAKE_SIZE).shuffle(len(data_train))\n",
    "train_data = train_data.padded_batch(16,  padded_shapes=([-1], []))\n",
    "\n",
    "test_data = all_encoded_data_train.skip(TAKE_SIZE)\n",
    "test_data = test_data.padded_batch(16, padded_shapes=([-1], []))"
   ]
  },
  {
   "cell_type": "markdown",
   "metadata": {
    "colab": {},
    "colab_type": "code",
    "id": "iA3Fu8Y9Bhv7"
   },
   "source": [
    "## Train and test data preprocessing"
   ]
  },
  {
   "cell_type": "code",
   "execution_count": 27,
   "metadata": {},
   "outputs": [],
   "source": [
    "data_test['label'] = 1\n",
    "data_test = data_test.loc[:,['text', 'label']]\n",
    "\n",
    "tf_ds_test = create_tf_dataset(data_test)\n",
    "\n",
    "tf_ds_test = tf_ds_test.shuffle(len(data_test))\n",
    "\n",
    "doc_test = create_token_doc(data_test.text)\n",
    "\n",
    "doc_test_cleaned = tokens_cleaning(doc_test)\n"
   ]
  },
  {
   "cell_type": "code",
   "execution_count": 28,
   "metadata": {},
   "outputs": [],
   "source": [
    "all_encoded_data_test = tf_ds_test.map(encode_map_fn)\n",
    "\n",
    "test_output = all_encoded_data_test\n",
    "test_output = test_output.padded_batch(16, padded_shapes=([-1], []))\n"
   ]
  },
  {
   "cell_type": "markdown",
   "metadata": {},
   "source": [
    "## Train model"
   ]
  },
  {
   "cell_type": "code",
   "execution_count": 41,
   "metadata": {
    "colab": {},
    "colab_type": "code",
    "id": "Nr5u5KevBhwP"
   },
   "outputs": [],
   "source": [
    "# Create learning rate schedule to decrease learning rate with model training\n",
    "initial_learning_rate = initial_learning_rate\n",
    "\n",
    "lr_schedule = tf.keras.optimizers.schedules.ExponentialDecay(\n",
    "    initial_learning_rate,\n",
    "    decay_steps=decay_steps,\n",
    "    decay_rate=decay_rate,\n",
    "    staircase=True)\n",
    "\n",
    "# Create Adam optimizer for gradient calculations\n",
    "optimizer= tf.keras.optimizers.Adam(\n",
    "    learning_rate=lr_schedule\n",
    ")\n",
    "\n",
    "# Define some interesting metrics\n",
    "thresholds=thresholds\n",
    "\n",
    "METRICS = [\n",
    "      tf.keras.metrics.TruePositives(name='tp',thresholds=thresholds),\n",
    "      tf.keras.metrics.FalsePositives(name='fp',thresholds=thresholds),\n",
    "      tf.keras.metrics.TrueNegatives(name='tn',thresholds=thresholds),\n",
    "      tf.keras.metrics.FalseNegatives(name='fn',thresholds=thresholds),\n",
    "      tf.keras.metrics.BinaryAccuracy(name='accuracy'),\n",
    "      tf.keras.metrics.Precision(name='precision'),\n",
    "      tf.keras.metrics.Recall(name='recall'),\n",
    "      tf.keras.metrics.AUC(name='auc'),\n",
    "]"
   ]
  },
  {
   "cell_type": "code",
   "execution_count": 43,
   "metadata": {
    "colab": {
     "base_uri": "https://localhost:8080/",
     "height": 1000
    },
    "colab_type": "code",
    "id": "bzIJHTHTBhwR",
    "outputId": "2c48e228-dadc-4829-c7c5-c02852903da2"
   },
   "outputs": [
    {
     "name": "stdout",
     "output_type": "stream",
     "text": [
      "Epoch 1/10\n",
      "381/381 [==============================] - 11s 28ms/step - loss: 0.6787 - tp: 1.0000 - fp: 4.0000 - tn: 3465.0000 - fn: 2620.0000 - accuracy: 0.5691 - precision: 0.2000 - recall: 3.8153e-04 - auc: 0.5394 - val_loss: 0.6563 - val_tp: 9.0000 - val_fp: 6.0000 - val_tn: 877.0000 - val_fn: 631.0000 - val_accuracy: 0.5817 - val_precision: 0.6000 - val_recall: 0.0141 - val_auc: 0.6600\n",
      "Epoch 2/10\n",
      "381/381 [==============================] - 10s 25ms/step - loss: 0.6220 - tp: 1294.0000 - fp: 755.0000 - tn: 2728.0000 - fn: 1313.0000 - accuracy: 0.6604 - precision: 0.6315 - recall: 0.4964 - auc: 0.7082 - val_loss: 0.5662 - val_tp: 409.0000 - val_fp: 168.0000 - val_tn: 720.0000 - val_fn: 226.0000 - val_accuracy: 0.7413 - val_precision: 0.7088 - val_recall: 0.6441 - val_auc: 0.7746\n",
      "Epoch 3/10\n",
      "381/381 [==============================] - 9s 24ms/step - loss: 0.5582 - tp: 1791.0000 - fp: 817.0000 - tn: 2660.0000 - fn: 822.0000 - accuracy: 0.7309 - precision: 0.6867 - recall: 0.6854 - auc: 0.7812 - val_loss: 0.4909 - val_tp: 468.0000 - val_fp: 170.0000 - val_tn: 726.0000 - val_fn: 159.0000 - val_accuracy: 0.7840 - val_precision: 0.7335 - val_recall: 0.7464 - val_auc: 0.8408\n",
      "Epoch 4/10\n",
      "381/381 [==============================] - 10s 25ms/step - loss: 0.4858 - tp: 1737.0000 - fp: 499.0000 - tn: 2977.0000 - fn: 877.0000 - accuracy: 0.7741 - precision: 0.7768 - recall: 0.6645 - auc: 0.8398 - val_loss: 0.4285 - val_tp: 410.0000 - val_fp: 43.0000 - val_tn: 820.0000 - val_fn: 250.0000 - val_accuracy: 0.8076 - val_precision: 0.9051 - val_recall: 0.6212 - val_auc: 0.8874\n",
      "Epoch 5/10\n",
      "381/381 [==============================] - 9s 25ms/step - loss: 0.4262 - tp: 1883.0000 - fp: 453.0000 - tn: 3029.0000 - fn: 725.0000 - accuracy: 0.8066 - precision: 0.8061 - recall: 0.7220 - auc: 0.8789 - val_loss: 0.3968 - val_tp: 469.0000 - val_fp: 90.0000 - val_tn: 785.0000 - val_fn: 179.0000 - val_accuracy: 0.8234 - val_precision: 0.8390 - val_recall: 0.7238 - val_auc: 0.8944\n",
      "Epoch 6/10\n",
      "381/381 [==============================] - 9s 24ms/step - loss: 0.3915 - tp: 1992.0000 - fp: 422.0000 - tn: 3029.0000 - fn: 647.0000 - accuracy: 0.8245 - precision: 0.8252 - recall: 0.7548 - auc: 0.8993 - val_loss: 0.3665 - val_tp: 538.0000 - val_fp: 156.0000 - val_tn: 733.0000 - val_fn: 96.0000 - val_accuracy: 0.8345 - val_precision: 0.7752 - val_recall: 0.8486 - val_auc: 0.9149\n",
      "Epoch 7/10\n",
      "381/381 [==============================] - 10s 25ms/step - loss: 0.3626 - tp: 2056.0000 - fp: 433.0000 - tn: 3037.0000 - fn: 564.0000 - accuracy: 0.8363 - precision: 0.8260 - recall: 0.7847 - auc: 0.9144 - val_loss: 0.3811 - val_tp: 409.0000 - val_fp: 15.0000 - val_tn: 849.0000 - val_fn: 250.0000 - val_accuracy: 0.8260 - val_precision: 0.9646 - val_recall: 0.6206 - val_auc: 0.9266\n",
      "Epoch 8/10\n",
      "381/381 [==============================] - 10s 27ms/step - loss: 0.3414 - tp: 2061.0000 - fp: 370.0000 - tn: 3127.0000 - fn: 532.0000 - accuracy: 0.8519 - precision: 0.8478 - recall: 0.7948 - auc: 0.9234 - val_loss: 0.3084 - val_tp: 583.0000 - val_fp: 107.0000 - val_tn: 735.0000 - val_fn: 98.0000 - val_accuracy: 0.8654 - val_precision: 0.8449 - val_recall: 0.8561 - val_auc: 0.9436\n",
      "Epoch 9/10\n",
      "381/381 [==============================] - 9s 25ms/step - loss: 0.3232 - tp: 2076.0000 - fp: 361.0000 - tn: 3141.0000 - fn: 512.0000 - accuracy: 0.8567 - precision: 0.8519 - recall: 0.8022 - auc: 0.9319 - val_loss: 0.2974 - val_tp: 567.0000 - val_fp: 112.0000 - val_tn: 755.0000 - val_fn: 89.0000 - val_accuracy: 0.8680 - val_precision: 0.8351 - val_recall: 0.8643 - val_auc: 0.9450\n",
      "Epoch 10/10\n",
      "381/381 [==============================] - 9s 25ms/step - loss: 0.3081 - tp: 2149.0000 - fp: 380.0000 - tn: 3075.0000 - fn: 486.0000 - accuracy: 0.8578 - precision: 0.8497 - recall: 0.8156 - auc: 0.9383 - val_loss: 0.2761 - val_tp: 555.0000 - val_fp: 108.0000 - val_tn: 777.0000 - val_fn: 83.0000 - val_accuracy: 0.8746 - val_precision: 0.8371 - val_recall: 0.8699 - val_auc: 0.9533\n"
     ]
    }
   ],
   "source": [
    "# Train model\n",
    "model = choose_model(model_number)\n",
    "\n",
    "epochs = epochs\n",
    "history = model.fit(train_data, epochs=epochs, validation_data=test_data)"
   ]
  },
  {
   "cell_type": "markdown",
   "metadata": {},
   "source": [
    "## Evaluate model"
   ]
  },
  {
   "cell_type": "code",
   "execution_count": 44,
   "metadata": {
    "colab": {
     "base_uri": "https://localhost:8080/",
     "height": 282
    },
    "colab_type": "code",
    "id": "RxdHHVOBBhwS",
    "outputId": "d6eba1c7-ffd0-404c-c81c-8b455e1ca968"
   },
   "outputs": [
    {
     "data": {
      "image/png": "[encoded data removed]",
      "text/plain": [
       "<Figure size 432x288 with 1 Axes>"
      ]
     },
     "metadata": {
      "needs_background": "light"
     },
     "output_type": "display_data"
    }
   ],
   "source": [
    "# Visualize the loss function\n",
    "plt.plot(history.history[\"loss\"], color=\"b\")\n",
    "plt.plot(history.history[\"val_loss\"], color=\"r\")\n",
    "plt.ylabel(\"loss\")\n",
    "plt.xlabel(\"Epochs\")\n",
    "plt.show()"
   ]
  },
  {
   "cell_type": "code",
   "execution_count": 45,
   "metadata": {
    "colab": {
     "base_uri": "https://localhost:8080/",
     "height": 279
    },
    "colab_type": "code",
    "id": "-2czasV3BhwU",
    "outputId": "f005a480-75ee-45da-a7cd-825e228c6417",
    "scrolled": true
   },
   "outputs": [
    {
     "data": {
      "image/png": "[encoded data removed]",
      "text/plain": [
       "<Figure size 432x288 with 1 Axes>"
      ]
     },
     "metadata": {
      "needs_background": "light"
     },
     "output_type": "display_data"
    }
   ],
   "source": [
    "# Visualize training accuracy\n",
    "plt.plot(history.history[\"accuracy\"], color=\"b\")\n",
    "plt.plot(history.history[\"val_accuracy\"], color=\"r\")\n",
    "plt.ylabel(\"accuracy\")\n",
    "plt.xlabel(\"Epochs\")\n",
    "plt.show()"
   ]
  },
  {
   "cell_type": "code",
   "execution_count": 46,
   "metadata": {
    "colab": {
     "base_uri": "https://localhost:8080/",
     "height": 34
    },
    "colab_type": "code",
    "id": "qHs1NEASBhwW",
    "outputId": "1d677670-9303-46b1-962a-90e7a7106b52"
   },
   "outputs": [
    {
     "name": "stdout",
     "output_type": "stream",
     "text": [
      "F1_Score = 0.8531898554068086\n"
     ]
    }
   ],
   "source": [
    "liste_f1_score = []\n",
    "\n",
    "for i in range(1, epochs):\n",
    "  liste_f1_score.append(2*(history.history['val_precision'][i]*history.history['val_recall'][i])/(history.history['val_precision'][i]+history.history['val_recall'][i]))\n",
    "\n",
    "f1_score = liste_f1_score[epochs-2]\n",
    "print(\"F1_Score =\", f1_score)"
   ]
  },
  {
   "cell_type": "code",
   "execution_count": 47,
   "metadata": {
    "colab": {
     "base_uri": "https://localhost:8080/",
     "height": 279
    },
    "colab_type": "code",
    "id": "OlY1iSuf2aB2",
    "outputId": "141c1601-c870-4278-8256-7ccad9bb8c53"
   },
   "outputs": [
    {
     "data": {
      "image/png": "[encoded data removed]",
      "text/plain": [
       "<Figure size 432x288 with 1 Axes>"
      ]
     },
     "metadata": {
      "needs_background": "light"
     },
     "output_type": "display_data"
    }
   ],
   "source": [
    "# Visualize F1 score \n",
    "plt.plot(liste_f1_score, color=\"b\")\n",
    "plt.ylabel(\"f1_score\")\n",
    "plt.xlabel(\"Epochs\")\n",
    "plt.show()"
   ]
  },
  {
   "cell_type": "code",
   "execution_count": 48,
   "metadata": {
    "colab": {
     "base_uri": "https://localhost:8080/",
     "height": 51
    },
    "colab_type": "code",
    "id": "Jv2nDQL2BhwZ",
    "outputId": "b7798fa6-4b4b-40cd-aaa9-40fd27808917"
   },
   "outputs": [
    {
     "data": {
      "text/plain": [
       "array([[777, 108],\n",
       "       [ 83, 555]])"
      ]
     },
     "execution_count": 48,
     "metadata": {},
     "output_type": "execute_result"
    }
   ],
   "source": [
    "# Display Confusion Matrix\n",
    "tn=int(history.history['val_tn'][epochs-1])\n",
    "fp=int(history.history['val_fp'][epochs-1])\n",
    "fn=int(history.history['val_fn'][epochs-1])\n",
    "tp=int(history.history['val_tp'][epochs-1])\n",
    "\n",
    "cm = np.array([[tn,fp],[fn,tp]])\n",
    "cm"
   ]
  },
  {
   "cell_type": "markdown",
   "metadata": {
    "colab": {},
    "colab_type": "code",
    "id": "5SCZDe0PBhwc"
   },
   "source": [
    "## Predictions"
   ]
  },
  {
   "cell_type": "code",
   "execution_count": 49,
   "metadata": {
    "colab": {},
    "colab_type": "code",
    "id": "4uZuiLoNQG9l"
   },
   "outputs": [],
   "source": [
    "pred = model.predict(test_output)"
   ]
  },
  {
   "cell_type": "code",
   "execution_count": 50,
   "metadata": {
    "colab": {},
    "colab_type": "code",
    "id": "3Iqvq-_MQG9m"
   },
   "outputs": [],
   "source": [
    "pred = pred.reshape(3263)"
   ]
  },
  {
   "cell_type": "code",
   "execution_count": 51,
   "metadata": {
    "colab": {},
    "colab_type": "code",
    "id": "HWBylHF8QG9n"
   },
   "outputs": [],
   "source": [
    "for i in range(len(pred)):\n",
    "    if pred[i] > 0.5:\n",
    "        pred[i] = 1\n",
    "    else:\n",
    "        pred[i] = 0         "
   ]
  },
  {
   "cell_type": "code",
   "execution_count": 52,
   "metadata": {
    "colab": {
     "base_uri": "https://localhost:8080/",
     "height": 34
    },
    "colab_type": "code",
    "id": "9AFvsFL5QG9p",
    "outputId": "65f9ae95-bbec-4e69-d63c-9ccb9f9bef91"
   },
   "outputs": [],
   "source": [
    "pred = pred.astype(int)"
   ]
  },
  {
   "cell_type": "markdown",
   "metadata": {},
   "source": [
    "## Create csv file with predictions"
   ]
  },
  {
   "cell_type": "code",
   "execution_count": 53,
   "metadata": {
    "colab": {},
    "colab_type": "code",
    "id": "-_RBfFD4QG9s"
   },
   "outputs": [],
   "source": [
    "if model_number == 1:\n",
    "    output = 'tweeter_model_1.csv'\n",
    "if model_number == 2:\n",
    "    output = 'tweeter_model_2.csv'\n",
    "\n",
    "target_predictions = pd.DataFrame(data=pred, columns=['target'])\n",
    "target_predictions = pd.concat([example_submission.id, target_predictions.target], axis=1 )\n",
    "target_predictions.to_csv(output, index=False)\n"
   ]
  }
 ],
 "metadata": {
  "accelerator": "GPU",
  "colab": {
   "name": "En_cours2.ipynb",
   "provenance": []
  },
  "kernelspec": {
   "display_name": "Python 3",
   "language": "python",
   "name": "python3"
  },
  "language_info": {
   "codemirror_mode": {
    "name": "ipython",
    "version": 3
   },
   "file_extension": ".py",
   "mimetype": "text/x-python",
   "name": "python",
   "nbconvert_exporter": "python",
   "pygments_lexer": "ipython3",
   "version": "3.7.7"
  }
 },
 "nbformat": 4,
 "nbformat_minor": 1
}
